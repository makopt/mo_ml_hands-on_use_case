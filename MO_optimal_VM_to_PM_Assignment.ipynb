{
 "cells": [
  {
   "cell_type": "markdown",
   "metadata": {},
   "source": [
    "# Hands-on Case Study 1: VM Placement Problem in Cloud Data Center"
   ]
  },
  {
   "cell_type": "markdown",
   "metadata": {},
   "source": [
    "## 1. Problem Description\n",
    "\n",
    "🌩️ Cloud computing data centers (a set of 🖥️ physical machines (PMs)) host numerous 💻 virtual machines (VMs) that require ⚡ computing resources such as CPU, memory, and disk storage. \n",
    "\n",
    "Efficiently managing these resources while ♻️ minimizing energy consumption is a crucial challenge.\n",
    "\n",
    "<img src=\"cloud2.png\" width=\"800\" align=\"center\"/>\n",
    "\n",
    "\n",
    "### 1.1. Objective 🎯\n",
    "\n",
    "Minimize the total energy consumption of the data center.\n",
    "\n",
    "### 1.2. Constraints 📌\n",
    "- Each VM must be assigned to exactly one active PM.\n",
    "- The total resource usage of VMs on any PM cannot exceed the PM's capacity.\n",
    "- The number of active PMs should be minimized to reduce energy consumption.\n",
    "- Binary decision variables indicate whether a VM is allocated to a PM and whether a PM is active.\n"
   ]
  },
  {
   "cell_type": "markdown",
   "metadata": {},
   "source": [
    "## 2. Mathematical Model - Binary Linear Program (BLP)\n",
    "\n",
    "### 2.1. Parameters\n",
    "Let:\n",
    "- $I$ be the set of virtual machines (VMs).\n",
    "- $J$ be the set of physical machines (PMs).\n",
    "- $r_{i}^{(c)}$, $ r_{i}^{(m)} $, and $ r_{i}^{(d)} $ be the CPU, memory, and disk requirements of VM $ i \\in I $.\n",
    "- $ C_j $, $ M_j $, and $ D_j $ be the CPU, memory, and disk capacity of PM $ j \\in J $.\n",
    "- $ P_j $ be the power consumption of PM $ j $ when active.\n",
    "\n",
    "### 2.2. Decision Variables\n",
    "Let:\n",
    "- $ x_{ij} \\in \\{0,1\\} $ be a binary variable indicating whether VM $ i $ is assigned to PM $ j $.\n",
    "- $ y_j \\in \\{0,1\\} $ be a binary variable indicating whether PM $ j $ is active or not.\n",
    "\n",
    "### 2.3. Objective Function  \n",
    "Minimize the total power consumption:\n",
    "$$\n",
    "\\begin{align*} \n",
    "\\min \\sum_{j \\in J} P_j y_j\n",
    "\\end{align*}\n",
    "$$\n",
    "\n",
    "### 2.4. Constraints\n",
    "\n",
    "**Each VM is assigned to one server**\n",
    "$$\n",
    "\\begin{align*} \n",
    "\\sum_{j \\in J} x_{ij} = 1, \\quad \\forall i \\in I\n",
    "\\end{align*}\n",
    "$$\n",
    "\n",
    "**CPU capacity constraint**\n",
    "$$\n",
    "\\begin{align*} \n",
    "\\sum_{i \\in I} r_{i}^{(c)} x_{ij} \\leq C_j y_j, \\quad \\forall j \\in J\n",
    "\\end{align*}\n",
    "$$\n",
    "\n",
    "**Memory capacity constraint**\n",
    "$$\n",
    "\\begin{align*} \n",
    "\\sum_{i \\in I} r_{i}^{(m)} x_{ij} \\leq M_j y_j, \\quad \\forall j \\in J\n",
    "\\end{align*}\n",
    "$$\n",
    "\n",
    "**Disk capacity constraint**\n",
    "$$\n",
    "\\begin{align*} \n",
    "\\sum_{i \\in I} r_{i}^{(d)} x_{ij} \\leq D_j y_j, \\quad \\forall j \\in J\n",
    "\\end{align*}\n",
    "$$\n",
    "\n",
    "**Binary decision variables**\n",
    "$$\n",
    "\\begin{align*} \n",
    "x_{ij} \\in \\{0,1\\}, \\quad y_j \\in \\{0,1\\}, \\quad \\forall i \\in I, j \\in J\n",
    "\\end{align*}\n",
    "$$\n",
    "\n",
    "\n"
   ]
  },
  {
   "cell_type": "markdown",
   "metadata": {},
   "source": [
    "## 3. Solving the BLP\n",
    "In this section, we outline the steps required to implement and solve the BLP model defined above. We will use [Gurobi](https://www.gurobi.com/) as the optimization solver, and to do so, we first need to install the required dependencies.\n",
    "\n",
    "### 3.1. Installing and Loading Required Packages\n",
    "To begin, we install and load the necessary packages that will be used throughout the implementation process.\n",
    "\n",
    "🔍 **Note:** *Gurobi provides a free [academic license](https://www.gurobi.com/academia/academic-program-and-licenses/) for students, researchers, and educators. This license grants access to the full-featured version of Gurobi for academic purposes. To obtain an academic license, users need to register with a valid university email and follow the activation instructions on the Gurobi website. Otherwise, the free license available for non-academic users comes with limitations, such as restricted problem size and performance constraints.*"
   ]
  },
  {
   "cell_type": "code",
   "execution_count": 16,
   "metadata": {},
   "outputs": [],
   "source": [
    "import subprocess\n",
    "import sys\n",
    "# Configure logging to only display CRITICAL level messages or higher\n",
    "import logging\n",
    "logger = logging.getLogger()\n",
    "logger.setLevel(logging.CRITICAL)\n",
    "# Install and import the required packages\n",
    "def install_and_import(package, version=None):\n",
    "    try:\n",
    "        __import__(package)\n",
    "    except ImportError:\n",
    "        if version:\n",
    "            subprocess.check_call([sys.executable, \"-m\", \"pip\", \"install\", f\"{package}=={version}\"])\n",
    "        else:\n",
    "            subprocess.check_call([sys.executable, \"-m\", \"pip\", \"install\", package])\n",
    "        __import__(package)\n",
    "\n",
    "install_and_import(\"gurobipy\", \"11.0.3\") # Gurobi's optimization package for solving the optimization problem"
   ]
  },
  {
   "cell_type": "markdown",
   "metadata": {},
   "source": [
    "Then we import the required packages"
   ]
  },
  {
   "cell_type": "code",
   "execution_count": 17,
   "metadata": {},
   "outputs": [],
   "source": [
    "import pandas as pd\n",
    "import matplotlib.pyplot as plt\n",
    "import gurobipy as gp\n",
    "from gurobipy import GRB"
   ]
  },
  {
   "cell_type": "markdown",
   "metadata": {},
   "source": [
    "🔍 **Note:** *Before constructing the general solver for the full BLP model, we will first develop a solver to handle a small-scale example of the problem. This step will allow us to gain a clearer understanding of how to formulate and implement the model using Gurobi. By working with a simplified version, we can explore key Gurobi techniques such as defining decision variables, setting up constraints, and optimizing the objective function. This hands-on approach will help build a solid foundation before scaling up to a more complex and generalized implementation.*"
   ]
  },
  {
   "cell_type": "markdown",
   "metadata": {},
   "source": [
    "### 3.2. Specific Solver - Small-scale Example\n",
    "\n",
    "#### 3.2.1. Problem Parameters\n",
    "\n",
    "Consider a small cloud data center with 3 VMs and 2 physical servers.\n",
    "$I = \\{1,2,3\\}$, $J = \\{1,2\\}$\n",
    "\n",
    "**Virtual Machines (VMs) Resource Requirements**\n",
    "| VM  | CPU | Memory | Disk |\n",
    "|-----|-----|--------|------|\n",
    "| 1   | 2   | 4      | 10   |\n",
    "| 2   | 3   | 6      | 12   |\n",
    "| 3   | 1   | 2      | 5    |\n",
    "\n",
    "**Physical Machines (PMs) Resource Capacities**\n",
    "| PM | CPU  | Memory | Disk | Power |\n",
    "|--------|--------|--------|--------|--------|\n",
    "| 1      | 5           | 10             | 20          | 100|\n",
    "| 2      | 4           | 8              | 15          | 80 |\n",
    " "
   ]
  },
  {
   "cell_type": "code",
   "execution_count": 18,
   "metadata": {},
   "outputs": [],
   "source": [
    "# Define the data for the VM Placement problem\n",
    "# A set of 3 VMs with their respective CPU, RAM, and Disk requirements defined above\n",
    "vms = {\n",
    "    'VM1': {'CPU': 2, 'RAM': 4, 'Disk': 10},\n",
    "    'VM2': {'CPU': 3, 'RAM': 6, 'Disk': 12},\n",
    "    'VM3': {'CPU': 1, 'RAM': 2, 'Disk': 5}\n",
    "}\n",
    "# A set of 2 PMs with their respective CPU, RAM, and Disk capacities and Power Consumption defined above\n",
    "pms = {\n",
    "    'PM1': {'CPU': 5, 'RAM': 10, 'Disk': 20, 'Power': 100},\n",
    "    'PM2': {'CPU': 4, 'RAM': 8, 'Disk': 15, 'Power': 80}\n",
    "}"
   ]
  },
  {
   "cell_type": "markdown",
   "metadata": {},
   "source": [
    "#### 3.2.2. Define Empty Gurobi Model \n",
    "\n",
    "The line `model = gp.Model()` defines a new optimization model (`model`) using Gurobi's Python interface (`gp`). This initializes an empty model object `m`, which will later be populated with decision variables, constraints, and the objective function as the problem formulation progresses. Essentially, it sets up the foundation where all the components of the optimization problem will be added and solved."
   ]
  },
  {
   "cell_type": "code",
   "execution_count": 19,
   "metadata": {},
   "outputs": [],
   "source": [
    "# Define the optimization model\n",
    "model = gp.Model('VM Placement')"
   ]
  },
  {
   "cell_type": "markdown",
   "metadata": {},
   "source": [
    "#### 3.2.3. Add Decision Variables to the Model \n",
    "\n",
    "The decisions for this optimization problem involve:\n",
    "- Determining for each VM, which PM it should be placed on\n",
    "- Determining which PMs should be used\n",
    "\n",
    "Let $x_{ij}\\in \\{0,1\\}$ is a binary variable that is equal to 1 if VM $i$ is placed on PM $j$, and 0 otherwise, $\\forall \\in I, j \\in J$. `x[i, j]`\n",
    "\n",
    "Let $y_j\\in \\{0,1\\}$ is a binary variable that is equal to 1 if PM $j$ is used, and 0 otherwise, $\\forall j \\in J$. `y[j]`"
   ]
  },
  {
   "cell_type": "code",
   "execution_count": 22,
   "metadata": {},
   "outputs": [],
   "source": [
    "# Define the decision variables\n",
    "# x[i, j] is a binary variable that is equal to 1 if VM i is placed on PM j, and 0 otherwise\n",
    "x = model.addVars(vms, pms, vtype=GRB.BINARY, name='x')\n",
    "# y[j] is a binary variable that is equal to 1 if PM j is used, and 0 otherwise\n",
    "y = model.addVars(pms, vtype=GRB.BINARY, name='y')"
   ]
  },
  {
   "cell_type": "markdown",
   "metadata": {},
   "source": [
    "#### 3.2.4. Add Objective Function to the Model \n",
    "\n",
    "Minimize the total power consumption:\n",
    "$$\n",
    "\\begin{align*} \n",
    "\\min \\sum_{j \\in J} P_j y_j\n",
    "\\end{align*}\n",
    "$$\n"
   ]
  },
  {
   "cell_type": "code",
   "execution_count": 23,
   "metadata": {},
   "outputs": [],
   "source": [
    "# Define the objective function\n",
    "# Minimize the total power consumption\n",
    "model.setObjective(gp.quicksum(y[j] * pms[j]['Power'] for j in pms), GRB.MINIMIZE)"
   ]
  },
  {
   "cell_type": "markdown",
   "metadata": {},
   "source": [
    "### 3.2.5. Add Constraints to the Model \n",
    "- Each VM must be assigned to exactly one active PM.\n",
    "- The total resource usage of VMs on any PM cannot exceed the PM's capacity.\n",
    "- The number of active PMs should be minimized to reduce energy consumption.\n",
    "- Binary decision variables indicate whether a VM is allocated to a PM and whether a PM is active.\n"
   ]
  },
  {
   "cell_type": "markdown",
   "metadata": {},
   "source": [
    "#### 3.2.5.1. VM-PM Exclusive Placement\n",
    "Each VM must be placed on exactly one PM"
   ]
  },
  {
   "cell_type": "code",
   "execution_count": 24,
   "metadata": {},
   "outputs": [],
   "source": [
    "# Each VM must be placed on exactly one PM\n",
    "model.addConstrs((gp.quicksum(x[i, j] for j in pms) == 1 for i in vms), name='VM')\n",
    "model.update()"
   ]
  },
  {
   "cell_type": "markdown",
   "metadata": {},
   "source": [
    "#### 3.2.5.2. CPU requiremennts vs capacities\n",
    "The sum of the CPU requirements of the VMs placed on a PM should not exceed the CPU PM's capacities"
   ]
  },
  {
   "cell_type": "code",
   "execution_count": 25,
   "metadata": {},
   "outputs": [],
   "source": [
    "# The sum of the CPU requirements of the VMs placed on a PM should not exceed the CPU PM's capacities\n",
    "model.addConstrs((gp.quicksum(vms[i]['CPU'] * x[i, j] for i in vms) <= pms[j]['CPU'] * y[j] for j in pms), name='CPU')\n",
    "model.update()"
   ]
  },
  {
   "cell_type": "markdown",
   "metadata": {},
   "source": [
    "#### 3.2.5.3. RAM requiremennts vs capacities\n",
    "The sum of the RAM requirements of the VMs placed on a PM should not exceed the RAM PM's capacities"
   ]
  },
  {
   "cell_type": "code",
   "execution_count": 26,
   "metadata": {},
   "outputs": [],
   "source": [
    "# The sum of the RAM requirements of the VMs placed on a PM should not exceed the RAM PM's capacities\n",
    "model.addConstrs((gp.quicksum(vms[i]['RAM'] * x[i, j] for i in vms) <= pms[j]['RAM'] * y[j] for j in pms), name='RAM')\n",
    "model.update()"
   ]
  },
  {
   "cell_type": "markdown",
   "metadata": {},
   "source": [
    "#### 3.2.5.4. Disks requiremennts vs capacities\n",
    "The sum of the Disk requirements of the VMs placed on a PM should not exceed the Disk PM's capacities"
   ]
  },
  {
   "cell_type": "code",
   "execution_count": 27,
   "metadata": {},
   "outputs": [],
   "source": [
    "# The sum of the Disk requirements of the VMs placed on a PM should not exceed the Disk PM's capacities\n",
    "model.addConstrs((gp.quicksum(vms[i]['Disk'] * x[i, j] for i in vms) <= pms[j]['Disk'] * y[j] for j in pms), name='Disk')\n",
    "model.update()"
   ]
  },
  {
   "cell_type": "markdown",
   "metadata": {},
   "source": [
    "### 3.2.6. Solving the Optimization Model and Output (Solution) Analysis\n",
    "\n",
    "With the model now set, we can optimize for minimal power consumption. "
   ]
  },
  {
   "cell_type": "markdown",
   "metadata": {},
   "source": [
    "#### 3.2.6.1. Solving the Model\n",
    "\n",
    "Solve the optimization problem using `optimize` function."
   ]
  },
  {
   "cell_type": "code",
   "execution_count": 28,
   "metadata": {},
   "outputs": [
    {
     "name": "stdout",
     "output_type": "stream",
     "text": [
      "Warning: variables 0 and 8 have the same name \"x[VM1,PM1]\"\n",
      "Warning: to let Gurobi read it back, use rlp format\n",
      "Gurobi Optimizer version 11.0.3 build v11.0.3rc0 (mac64[arm] - Darwin 24.3.0 24D70)\n",
      "\n",
      "CPU model: Apple M1 Pro\n",
      "Thread count: 10 physical cores, 10 logical processors, using up to 10 threads\n",
      "\n",
      "Optimize a model with 9 rows, 24 columns and 30 nonzeros\n",
      "Model fingerprint: 0xf3b5fd9b\n",
      "Variable types: 0 continuous, 24 integer (24 binary)\n",
      "Coefficient statistics:\n",
      "  Matrix range     [1e+00, 2e+01]\n",
      "  Objective range  [8e+01, 1e+02]\n",
      "  Bounds range     [1e+00, 1e+00]\n",
      "  RHS range        [1e+00, 1e+00]\n",
      "Found heuristic solution: objective 180.0000000\n",
      "Presolve removed 9 rows and 24 columns\n",
      "Presolve time: 0.00s\n",
      "Presolve: All rows and columns removed\n",
      "\n",
      "Explored 0 nodes (0 simplex iterations) in 0.00 seconds (0.00 work units)\n",
      "Thread count was 1 (of 10 available processors)\n",
      "\n",
      "Solution count 1: 180 \n",
      "\n",
      "Optimal solution found (tolerance 1.00e-04)\n",
      "Best objective 1.800000000000e+02, best bound 1.800000000000e+02, gap 0.0000%\n"
     ]
    }
   ],
   "source": [
    "# Write the model to a file\n",
    "model.write(\"VM_Placement_Small.lp\")\n",
    "# Optimize the model\n",
    "model.optimize()"
   ]
  },
  {
   "cell_type": "markdown",
   "metadata": {},
   "source": [
    "#### 3.2.6.2. Print the optimal solution\n",
    "\n",
    "Now, we can print the optimal solution and visualize the placement of VMs on PMs"
   ]
  },
  {
   "cell_type": "code",
   "execution_count": 29,
   "metadata": {},
   "outputs": [
    {
     "name": "stdout",
     "output_type": "stream",
     "text": [
      "The optimal solution has total power consumption: 180.0\n",
      "PM PM1 is used with power consumption 100\n",
      "VM VM1 is placed on PM PM1\n",
      "VM VM3 is placed on PM PM1\n",
      "PM PM2 is used with power consumption 80\n",
      "VM VM2 is placed on PM PM2\n"
     ]
    },
    {
     "data": {
      "image/png": "[encoded data removed]",
      "text/plain": [
       "<Figure size 1000x500 with 2 Axes>"
      ]
     },
     "metadata": {},
     "output_type": "display_data"
    }
   ],
   "source": [
    "# Print the optimal solution\n",
    "if model.status == GRB.OPTIMAL:\n",
    "    print('The optimal solution has total power consumption:', model.objVal)\n",
    "    for j in pms:\n",
    "        if y[j].x > 0.5:\n",
    "            print(f'PM {j} is used with power consumption {pms[j][\"Power\"]}')\n",
    "            for i in vms:\n",
    "                if x[i, j].x > 0.5:\n",
    "                    print(f'VM {i} is placed on PM {j}')\n",
    "    # Visualize the optimal solution\n",
    "    # Create a DataFrame to store the placement of VMs on PMs\n",
    "    placement = pd.DataFrame(0, index=pms, columns=vms)\n",
    "    for i in vms:\n",
    "        for j in pms:\n",
    "            placement.at[j, i] = x[i, j].x\n",
    "\n",
    "    plt.figure(figsize=(10, 5))\n",
    "    plt.imshow(placement, cmap='Blues', interpolation='nearest')\n",
    "    plt.xticks(range(len(vms)), vms.keys())\n",
    "    plt.yticks(range(len(pms)), pms.keys())\n",
    "    plt.xlabel('VMs')\n",
    "    plt.ylabel('PMs')\n",
    "    plt.title('PM Placement')\n",
    "    plt.colorbar(label='Placement')\n",
    "    plt.show()\n",
    "\n",
    "    # Save the optimal solution to a CSV file\n",
    "    placement.to_csv('VM_Placement_Small.csv')\n",
    "else:\n",
    "    print('No solution found')\n",
    "\n"
   ]
  },
  {
   "cell_type": "markdown",
   "metadata": {},
   "source": [
    "### 3.3. General Solver - Example with Random Data\n",
    "\n",
    "In this second example, we will solve a larger VM Placement problem with 50 VMs and 20 PMs. \n",
    "Data will be generated randomly for this problem.\n",
    "\n",
    "🤔 **Reflection**\n",
    "\n",
    "📂 **Data Sources:** Data can be read from a CSV file or a database.\n",
    "\n",
    "🧠 **Prediction Model:** A machine learning model (e.g., time series forecasting, regression, or deep learning) can be used to predict future demand for VMs and PMs based on:\n",
    "\n",
    "📊 Historical usage patterns\n",
    "\n",
    "📈 Workload fluctuations\n",
    "\n",
    "🌍 External factors"
   ]
  },
  {
   "cell_type": "code",
   "execution_count": 30,
   "metadata": {},
   "outputs": [
    {
     "name": "stdout",
     "output_type": "stream",
     "text": [
      "Gurobi Optimizer version 11.0.3 build v11.0.3rc0 (mac64[arm] - Darwin 24.3.0 24D70)\n",
      "\n",
      "CPU model: Apple M1 Pro\n",
      "Thread count: 10 physical cores, 10 logical processors, using up to 10 threads\n",
      "\n",
      "Optimize a model with 110 rows, 1020 columns and 4060 nonzeros\n",
      "Model fingerprint: 0x728672ea\n",
      "Variable types: 0 continuous, 1020 integer (1020 binary)\n",
      "Coefficient statistics:\n",
      "  Matrix range     [1e+00, 8e+01]\n",
      "  Objective range  [5e+01, 2e+02]\n",
      "  Bounds range     [1e+00, 1e+00]\n",
      "  RHS range        [1e+00, 1e+00]\n",
      "Found heuristic solution: objective 2903.0000000\n",
      "Presolve time: 0.01s\n",
      "Presolved: 110 rows, 1020 columns, 4060 nonzeros\n",
      "Variable types: 0 continuous, 1020 integer (1020 binary)\n",
      "\n",
      "Root relaxation: objective 1.061047e+03, 660 iterations, 0.01 seconds (0.01 work units)\n",
      "\n",
      "    Nodes    |    Current Node    |     Objective Bounds      |     Work\n",
      " Expl Unexpl |  Obj  Depth IntInf | Incumbent    BestBd   Gap | It/Node Time\n",
      "\n",
      "     0     0 1061.04688    0   37 2903.00000 1061.04688  63.4%     -    0s\n",
      "H    0     0                    1190.0000000 1061.04688  10.8%     -    0s\n",
      "H    0     0                    1164.0000000 1062.57450  8.71%     -    0s\n",
      "     0     0 1066.00000    0   51 1164.00000 1066.00000  8.42%     -    0s\n",
      "     0     0 1068.20000    0   41 1164.00000 1068.20000  8.23%     -    0s\n",
      "     0     0 1073.32042    0   54 1164.00000 1073.32042  7.79%     -    0s\n",
      "     0     0 1073.37500    0   34 1164.00000 1073.37500  7.79%     -    0s\n",
      "     0     2 1073.37500    0   32 1164.00000 1073.37500  7.79%     -    0s\n",
      "H   38    46                    1158.0000000 1073.63636  7.29%  79.9    0s\n",
      "H 1299  1058                    1151.0000000 1078.28571  6.32%  23.1    0s\n",
      "*19702  3869             102    1082.0000000 1082.00000  0.00%  14.7    2s\n",
      "\n",
      "Explored 26318 nodes (368573 simplex iterations) in 2.28 seconds (3.52 work units)\n",
      "Thread count was 10 (of 10 available processors)\n",
      "\n",
      "Solution count 6: 1082 1151 1158 ... 2903\n",
      "\n",
      "Optimal solution found (tolerance 1.00e-04)\n",
      "Best objective 1.082000000000e+03, best bound 1.082000000000e+03, gap 0.0000%\n",
      "The optimal solution has total power consumption: 1082.0\n",
      "PM PM1 is used with power consumption 188\n",
      "VM VM4 is placed on PM PM1\n",
      "VM VM11 is placed on PM PM1\n",
      "VM VM17 is placed on PM PM1\n",
      "VM VM29 is placed on PM PM1\n",
      "VM VM35 is placed on PM PM1\n",
      "VM VM39 is placed on PM PM1\n",
      "VM VM40 is placed on PM PM1\n",
      "VM VM49 is placed on PM PM1\n",
      "PM PM5 is used with power consumption 83\n",
      "VM VM2 is placed on PM PM5\n",
      "VM VM19 is placed on PM PM5\n",
      "VM VM21 is placed on PM PM5\n",
      "VM VM43 is placed on PM PM5\n",
      "VM VM44 is placed on PM PM5\n",
      "PM PM6 is used with power consumption 91\n",
      "VM VM5 is placed on PM PM6\n",
      "VM VM31 is placed on PM PM6\n",
      "VM VM34 is placed on PM PM6\n",
      "VM VM48 is placed on PM PM6\n",
      "PM PM9 is used with power consumption 130\n",
      "VM VM9 is placed on PM PM9\n",
      "VM VM14 is placed on PM PM9\n",
      "VM VM20 is placed on PM PM9\n",
      "VM VM32 is placed on PM PM9\n",
      "VM VM33 is placed on PM PM9\n",
      "PM PM12 is used with power consumption 60\n",
      "VM VM3 is placed on PM PM12\n",
      "VM VM7 is placed on PM PM12\n",
      "VM VM15 is placed on PM PM12\n",
      "VM VM27 is placed on PM PM12\n",
      "VM VM50 is placed on PM PM12\n",
      "PM PM15 is used with power consumption 53\n",
      "VM VM10 is placed on PM PM15\n",
      "VM VM25 is placed on PM PM15\n",
      "VM VM38 is placed on PM PM15\n",
      "VM VM41 is placed on PM PM15\n",
      "VM VM42 is placed on PM PM15\n",
      "VM VM47 is placed on PM PM15\n",
      "PM PM16 is used with power consumption 165\n",
      "VM VM8 is placed on PM PM16\n",
      "VM VM16 is placed on PM PM16\n",
      "VM VM18 is placed on PM PM16\n",
      "VM VM23 is placed on PM PM16\n",
      "VM VM46 is placed on PM PM16\n",
      "PM PM17 is used with power consumption 171\n",
      "VM VM1 is placed on PM PM17\n",
      "VM VM6 is placed on PM PM17\n",
      "VM VM12 is placed on PM PM17\n",
      "VM VM13 is placed on PM PM17\n",
      "VM VM24 is placed on PM PM17\n",
      "VM VM45 is placed on PM PM17\n",
      "PM PM20 is used with power consumption 141\n",
      "VM VM22 is placed on PM PM20\n",
      "VM VM26 is placed on PM PM20\n",
      "VM VM28 is placed on PM PM20\n",
      "VM VM30 is placed on PM PM20\n",
      "VM VM36 is placed on PM PM20\n",
      "VM VM37 is placed on PM PM20\n"
     ]
    },
    {
     "data": {
      "image/png": "[encoded data removed]",
      "text/plain": [
       "<Figure size 3000x1500 with 2 Axes>"
      ]
     },
     "metadata": {},
     "output_type": "display_data"
    },
    {
     "name": "stdout",
     "output_type": "stream",
     "text": [
      "Use rate of each PM: {'PM1': 8.0, 'PM5': 5.0, 'PM6': 4.0, 'PM9': 5.0, 'PM12': 5.0, 'PM15': 6.0, 'PM16': 5.0, 'PM17': 6.0, 'PM20': 6.0}\n"
     ]
    },
    {
     "data": {
      "image/png": "[encoded data removed]",
      "text/plain": [
       "<Figure size 640x480 with 1 Axes>"
      ]
     },
     "metadata": {},
     "output_type": "display_data"
    }
   ],
   "source": [
    "# Generate random data for the VM Placement problem\n",
    "import random\n",
    "random.seed(1977)\n",
    "n = 50\n",
    "m = 20\n",
    "vms = {f'VM{i}': {'CPU': random.randint(1, 5), 'RAM': random.randint(1, 10), 'Disk': random.randint(1, 20)} for i in range(1, n+1)}\n",
    "pms = {f'PM{i}': {'CPU': random.randint(10, 20), 'RAM': random.randint(20, 40), 'Disk': random.randint(40, 80), 'Power': random.randint(50, 200)} for i in range(1,m+1)}\n",
    "\n",
    "# Define the optimization model\n",
    "model = gp.Model('VM Placement')\n",
    "\n",
    "# Define the decision variables\n",
    "x = model.addVars(vms, pms, vtype=GRB.BINARY, name='x')\n",
    "y = model.addVars(pms, vtype=GRB.BINARY, name='y')\n",
    "\n",
    "# Define the objective function\n",
    "model.setObjective(gp.quicksum(y[j] * pms[j]['Power'] for j in pms), GRB.MINIMIZE)\n",
    "\n",
    "# Constraints\n",
    "model.addConstrs((gp.quicksum(x[i, j] for j in pms) == 1 for i in vms), name='VM')\n",
    "model.addConstrs((gp.quicksum(vms[i]['CPU'] * x[i, j] for i in vms) <= pms[j]['CPU'] * y[j] for j in pms), name='CPU')\n",
    "model.addConstrs((gp.quicksum(vms[i]['RAM'] * x[i, j] for i in vms) <= pms[j]['RAM'] * y[j] for j in pms), name='RAM')\n",
    "model.addConstrs((gp.quicksum(vms[i]['Disk'] * x[i, j] for i in vms) <= pms[j]['Disk'] * y[j] for j in pms), name='Disk')\n",
    "\n",
    "# Write the model to a file\n",
    "model.write(\"VM_Placement_Random.lp\")\n",
    "# Optimize the model\n",
    "model.optimize()\n",
    "\n",
    "# Print the optimal solution\n",
    "if model.status == GRB.OPTIMAL:\n",
    "    print('The optimal solution has total power consumption:', model.objVal)\n",
    "    for j in pms:\n",
    "        if y[j].x > 0.5:\n",
    "            print(f'PM {j} is used with power consumption {pms[j][\"Power\"]}')\n",
    "            for i in vms:\n",
    "                if x[i, j].x > 0.5:\n",
    "                    print(f'VM {i} is placed on PM {j}')\n",
    "    # Visualize the optimal solution\n",
    "    placement = pd.DataFrame(0, index=pms, columns=vms)\n",
    "    for i in vms:\n",
    "        for j in pms:\n",
    "            placement.at[j, i] = x[i, j].x\n",
    "\n",
    "    plt.figure(figsize=(30, 15))\n",
    "    plt.imshow(placement, cmap='Blues', interpolation='nearest')\n",
    "    plt.xticks(range(len(vms)), vms.keys())\n",
    "    plt.yticks(range(len(pms)), pms.keys())\n",
    "    plt.xlabel('VMs')\n",
    "    plt.ylabel('PMs')\n",
    "    plt.title('PM Placement')\n",
    "    plt.colorbar(label='Placement')\n",
    "    plt.show()\n",
    "\n",
    "    # Save the optimal solution to a CSV file\n",
    "    placement.to_csv('VM_Placement_Random.csv')\n",
    "\n",
    "    # Calculate and Visualize the use rate of each PM\n",
    "    use_rate = {j: sum(x[i, j].x for i in vms) / y[j].x for j in pms if y[j].x > 0.5}\n",
    "    print('Use rate of each PM:', use_rate)\n",
    "    plt.bar(use_rate.keys(), use_rate.values())\n",
    "    plt.xlabel('PMs')\n",
    "    plt.ylabel('Use Rate')\n",
    "    plt.title('Use Rate of PMs')\n",
    "    plt.show()\n",
    "\n",
    "else:\n",
    "    print('No solution found')"
   ]
  },
  {
   "cell_type": "code",
   "execution_count": null,
   "metadata": {},
   "outputs": [],
   "source": []
  }
 ],
 "metadata": {
  "kernelspec": {
   "display_name": "Python 3",
   "language": "python",
   "name": "python3"
  },
  "language_info": {
   "codemirror_mode": {
    "name": "ipython",
    "version": 3
   },
   "file_extension": ".py",
   "mimetype": "text/x-python",
   "name": "python",
   "nbconvert_exporter": "python",
   "pygments_lexer": "ipython3",
   "version": "3.12.8"
  },
  "toc-autonumbering": false,
  "toc-showcode": false,
  "toc-showmarkdowntxt": false,
  "varInspector": {
   "cols": {
    "lenName": 16,
    "lenType": 16,
    "lenVar": 40
   },
   "kernels_config": {
    "python": {
     "delete_cmd_postfix": "",
     "delete_cmd_prefix": "del ",
     "library": "var_list.py",
     "varRefreshCmd": "print(var_dic_list())"
    },
    "r": {
     "delete_cmd_postfix": ") ",
     "delete_cmd_prefix": "rm(",
     "library": "var_list.r",
     "varRefreshCmd": "cat(var_dic_list()) "
    }
   },
   "types_to_exclude": [
    "module",
    "function",
    "builtin_function_or_method",
    "instance",
    "_Feature"
   ],
   "window_display": false
  }
 },
 "nbformat": 4,
 "nbformat_minor": 4
}
